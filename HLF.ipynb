{
 "cells": [
  {
   "cell_type": "code",
   "execution_count": null,
   "metadata": {},
   "outputs": [],
   "source": [
    "'''Ejercicio hundir la flota, pendiente de adornar'''"
   ]
  },
  {
   "cell_type": "markdown",
   "metadata": {},
   "source": [
    "'''pasos a realizar:\n",
    "-crear presentación con input, donde se pide nommbre del jugador\n",
    "-crear dos tablero 10 x 10 uno de ellos con los barcos \n",
    "-se podría hacer que el jugador posicione los barcos de forma manual con inputs, ya  que el formato aleatorio lo va a hacer igualmente el jugador \"máquina\"\n",
    "-programar que e repita el turno en caso de impacto\n",
    "-si la máquina realiza impacto, debería de probar sus siguientes lancamientos en un rango de n+-1 en altitud y latitud hasta volver a impactar y repetir bucle\n",
    "- en caso de hundimiento, todas las casillas a +-1 del area del barco quedarán anuladas de la IA puesto que no habrá barcos en dicha posicion\n",
    "- *** podriamos programar imputs ingeniosos en algunos casos segun se desarrolle la partida, como que eliminar la mitad de la flota enemiga la máquina nos haga algun tipo de comentario o amenza, y finalizar el juego con un \"has ganado\" o \" la próxima me vengaré\"\n",
    "- puede ser interesar programar la IA con dos dificultades, disparos aleatorios, o disparos precisos, aplicando conocimiento en los lanzamientos con el n+-1\n",
    "- mme gustaría insertar un avatar de imagen del adversario con está foto.'''\n",
    "  "
   ]
  },
  {
   "cell_type": "markdown",
   "metadata": {},
   "source": [
    "- Tablero fijo de prueba.\n",
    "- Probar algo fácil/cutre/corto de prueba, que funcione.\n",
    "- adornar"
   ]
  },
  {
   "cell_type": "code",
   "execution_count": null,
   "metadata": {},
   "outputs": [],
   "source": [
    "import numpy as np\n",
    "import pandas as pd\n",
    "from PIL import Image\n",
    "import matplotlib.pyplot as plt\n",
    "import random"
   ]
  },
  {
   "cell_type": "code",
   "execution_count": null,
   "metadata": {},
   "outputs": [],
   "source": []
  },
  {
   "cell_type": "code",
   "execution_count": 10,
   "metadata": {},
   "outputs": [
    {
     "name": "stdout",
     "output_type": "stream",
     "text": [
      "[[' ' ' ' ' ' ' ' ' ' ' ' ' ' ' ' ' ' ' ']\n",
      " [' ' ' ' ' ' ' ' ' ' ' ' ' ' ' ' ' ' ' ']\n",
      " [' ' ' ' ' ' ' ' ' ' ' ' ' ' ' ' ' ' ' ']\n",
      " [' ' ' ' ' ' ' ' ' ' ' ' ' ' ' ' ' ' ' ']\n",
      " [' ' ' ' ' ' ' ' ' ' ' ' ' ' ' ' ' ' ' ']\n",
      " [' ' ' ' ' ' ' ' ' ' ' ' ' ' ' ' ' ' ' ']\n",
      " [' ' ' ' ' ' ' ' ' ' ' ' ' ' ' ' ' ' ' ']\n",
      " [' ' ' ' ' ' ' ' ' ' ' ' ' ' ' ' ' ' ' ']\n",
      " [' ' ' ' ' ' ' ' ' ' ' ' ' ' ' ' ' ' ' ']\n",
      " [' ' ' ' ' ' ' ' ' ' ' ' ' ' ' ' ' ' ' ']]\n"
     ]
    }
   ],
   "source": [
    "tablero = np.full((10,10), fill_value = ' ')\n",
    "print(tablero)"
   ]
  },
  {
   "cell_type": "code",
   "execution_count": null,
   "metadata": {},
   "outputs": [],
   "source": []
  },
  {
   "cell_type": "code",
   "execution_count": null,
   "metadata": {},
   "outputs": [],
   "source": []
  },
  {
   "cell_type": "code",
   "execution_count": null,
   "metadata": {},
   "outputs": [],
   "source": []
  },
  {
   "cell_type": "code",
   "execution_count": null,
   "metadata": {},
   "outputs": [],
   "source": [
    "np.random.seed(2022)\n",
    "tablero_partida = np.full((10,10), fill_value = ' ')\n",
    "print(tablero_partida)\n",
    "tablero_barcos= np.full((10,10), fill_value = ' ')\n",
    "print('__________________________________________')\n",
    "print(tablero_barcos)\n",
    "orient = random.choice(['N', 'S', 'E', 'O'])\n",
    "barco = 0\n"
   ]
  },
  {
   "cell_type": "code",
   "execution_count": null,
   "metadata": {},
   "outputs": [],
   "source": [
    "yago vidas = 22, if x in o yago vidas -1 (print o joder me has dado)\n"
   ]
  },
  {
   "cell_type": "code",
   "execution_count": null,
   "metadata": {},
   "outputs": [],
   "source": []
  },
  {
   "cell_type": "code",
   "execution_count": 50,
   "metadata": {},
   "outputs": [
    {
     "name": "stdout",
     "output_type": "stream",
     "text": [
      "[[' ' ' ' ' ' ' ' ' ' ' ' ' ' ' ' ' ' ' ']\n",
      " [' ' ' ' ' ' ' ' ' ' ' ' ' ' ' ' ' ' ' ']\n",
      " [' ' ' ' ' ' ' ' ' ' ' ' ' ' ' ' ' ' ' ']\n",
      " [' ' ' ' ' ' ' ' ' ' ' ' ' ' ' ' ' ' ' ']\n",
      " [' ' ' ' ' ' ' ' ' ' ' ' ' ' ' ' ' ' ' ']\n",
      " [' ' ' ' ' ' ' ' ' ' ' ' ' ' ' ' ' ' ' ']\n",
      " [' ' ' ' ' ' ' ' ' ' ' ' ' ' ' ' ' ' ' ']\n",
      " [' ' ' ' ' ' ' ' ' ' ' ' ' ' ' ' ' ' ' ']\n",
      " [' ' ' ' ' ' ' ' ' ' ' ' ' ' ' ' ' ' ' ']\n",
      " [' ' ' ' ' ' ' ' ' ' ' ' ' ' ' ' ' ' ' ']]\n",
      "__________________________________________\n",
      "[[' ' ' ' ' ' ' ' ' ' ' ' ' ' ' ' ' ' ' ']\n",
      " [' ' ' ' ' ' ' ' ' ' ' ' ' ' ' ' ' ' ' ']\n",
      " [' ' ' ' ' ' ' ' ' ' ' ' ' ' ' ' ' ' ' ']\n",
      " [' ' ' ' ' ' ' ' ' ' ' ' ' ' ' ' ' ' ' ']\n",
      " [' ' ' ' ' ' ' ' ' ' ' ' ' ' ' ' ' ' ' ']\n",
      " [' ' ' ' ' ' ' ' ' ' ' ' ' ' ' ' ' ' ' ']\n",
      " [' ' ' ' ' ' ' ' ' ' ' ' ' ' ' ' ' ' ' ']\n",
      " [' ' ' ' ' ' ' ' ' ' ' ' ' ' ' ' ' ' ' ']\n",
      " [' ' ' ' ' ' ' ' ' ' ' ' ' ' ' ' ' ' ' ']\n",
      " [' ' ' ' ' ' ' ' ' ' ' ' ' ' ' ' ' ' ' ']]\n"
     ]
    }
   ],
   "source": [
    "np.random.seed(2022)\n",
    "radar = np.full((10,10), fill_value = ' ')\n",
    "print(radar)\n",
    "tablero_barcos= np.full((10,10), fill_value = ' ')\n",
    "print('__________________________________________')\n",
    "print(tablero_barcos)\n",
    "orient = random.choice(['N', 'S', 'E', 'O'])\n",
    "barco = 0\n",
    "\n",
    "\n"
   ]
  },
  {
   "cell_type": "code",
   "execution_count": null,
   "metadata": {},
   "outputs": [],
   "source": []
  },
  {
   "cell_type": "code",
   "execution_count": 58,
   "metadata": {},
   "outputs": [
    {
     "name": "stdout",
     "output_type": "stream",
     "text": [
      "[['O' 'O' ' ' ' ' ' ' ' ' ' ' 'O' ' ' ' ']\n",
      " [' ' ' ' 'O' 'O' 'O' 'O' ' ' 'O' ' ' 'O']\n",
      " [' ' ' ' ' ' ' ' ' ' ' ' ' ' ' ' ' ' 'O']\n",
      " [' ' ' ' ' ' ' ' 'O' ' ' ' ' ' ' ' ' 'O']\n",
      " ['O' 'O' ' ' ' ' ' ' ' ' 'O' ' ' ' ' ' ']\n",
      " [' ' ' ' ' ' ' ' ' ' 'O' ' ' ' ' ' ' ' ']\n",
      " [' ' 'O' ' ' ' ' ' ' ' ' ' ' ' ' ' ' ' ']\n",
      " [' ' 'O' ' ' ' ' ' ' 'O' 'O' ' ' ' ' ' ']\n",
      " [' ' 'O' ' ' ' ' ' ' ' ' ' ' ' ' ' ' ' ']\n",
      " [' ' ' ' ' ' ' ' ' ' ' ' ' ' ' ' ' ' 'O']]\n",
      "__________________________________________\n",
      "[[' ' ' ' ' ' ' ' ' ' ' ' ' ' ' ' ' ' ' ']\n",
      " [' ' ' ' ' ' ' ' ' ' ' ' ' ' ' ' ' ' ' ']\n",
      " [' ' ' ' ' ' ' ' ' ' ' ' ' ' ' ' ' ' ' ']\n",
      " [' ' ' ' ' ' ' ' ' ' ' ' ' ' ' ' ' ' ' ']\n",
      " [' ' ' ' ' ' ' ' ' ' ' ' ' ' ' ' ' ' ' ']\n",
      " [' ' ' ' ' ' ' ' ' ' ' ' ' ' ' ' ' ' ' ']\n",
      " [' ' ' ' ' ' ' ' ' ' ' ' ' ' ' ' ' ' ' ']\n",
      " [' ' ' ' ' ' ' ' ' ' ' ' ' ' ' ' ' ' ' ']\n",
      " [' ' ' ' ' ' ' ' ' ' ' ' ' ' ' ' ' ' ' ']\n",
      " [' ' ' ' ' ' ' ' ' ' ' ' ' ' ' ' ' ' ' ']]\n"
     ]
    }
   ],
   "source": [
    "# Tablero fijo jugador 1\n",
    "\n",
    "tablero_barcos[1, 2:6] = 'O'\n",
    "tablero_barcos[0, 0:2] = 'O'\n",
    "tablero_barcos[7, 5:7] = 'O'\n",
    "tablero_barcos[4, 6:7] = 'O'\n",
    "tablero_barcos[4, 0:2] = 'O'\n",
    "tablero_barcos[0:2, 7] = 'O'\n",
    "tablero_barcos[6:9, 1] = 'O'\n",
    "tablero_barcos[1:4, 9] = 'O'\n",
    "tablero_barcos[5, 5] = 'O'\n",
    "tablero_barcos[9, 9] = 'O'\n",
    "tablero_barcos[3, 4] = 'O'\n",
    "print(tablero_barcos)\n",
    "print('__________________________________________')\n",
    "print(radar)\n"
   ]
  },
  {
   "cell_type": "code",
   "execution_count": 59,
   "metadata": {},
   "outputs": [
    {
     "name": "stdout",
     "output_type": "stream",
     "text": [
      "[['O' 'O' ' ' ' ' ' ' ' ' ' ' 'O' ' ' ' ']\n",
      " [' ' ' ' 'O' 'O' 'O' 'O' ' ' 'O' ' ' 'O']\n",
      " [' ' ' ' ' ' ' ' ' ' ' ' ' ' ' ' ' ' 'O']\n",
      " [' ' ' ' ' ' ' ' 'O' ' ' ' ' ' ' ' ' 'O']\n",
      " ['O' 'O' ' ' ' ' ' ' ' ' 'O' ' ' ' ' ' ']\n",
      " [' ' ' ' ' ' ' ' ' ' 'O' ' ' ' ' ' ' ' ']\n",
      " [' ' 'O' ' ' ' ' ' ' ' ' ' ' ' ' ' ' ' ']\n",
      " [' ' 'O' ' ' ' ' ' ' 'O' 'O' ' ' ' ' ' ']\n",
      " [' ' 'O' ' ' ' ' ' ' ' ' ' ' ' ' ' ' ' ']\n",
      " [' ' ' ' ' ' ' ' ' ' ' ' ' ' ' ' ' ' 'O']]\n"
     ]
    }
   ],
   "source": [
    "tablero_rival = np.full((10,10), fill_value = ' ')\n",
    "\n",
    "tablero_rival[1, 2:6] = 'O'\n",
    "tablero_rival[0, 0:2] = 'O'\n",
    "tablero_rival[7, 5:7] = 'O'\n",
    "tablero_rival[4, 6:7] = 'O'\n",
    "tablero_rival[4, 0:2] = 'O'\n",
    "tablero_rival[0:2, 7] = 'O'\n",
    "tablero_rival[6:9, 1] = 'O'\n",
    "tablero_rival[1:4, 9] = 'O'\n",
    "tablero_rival[5, 5] = 'O'\n",
    "tablero_rival[9, 9] = 'O'\n",
    "tablero_rival[3, 4] = 'O'\n",
    "print(tablero_rival)"
   ]
  },
  {
   "cell_type": "code",
   "execution_count": 63,
   "metadata": {},
   "outputs": [
    {
     "name": "stdout",
     "output_type": "stream",
     "text": [
      "[[' ' ' ' ' ' ' ' ' ' ' ' ' ' ' ' ' ' ' ']\n",
      " [' ' ' ' ' ' ' ' ' ' ' ' ' ' ' ' ' ' ' ']\n",
      " [' ' ' ' ' ' ' ' ' ' ' ' 'X' ' ' ' ' ' ']\n",
      " [' ' ' ' ' ' ' ' ' ' ' ' ' ' ' ' ' ' ' ']\n",
      " [' ' ' ' ' ' ' ' ' ' ' ' ' ' ' ' ' ' ' ']\n",
      " [' ' ' ' ' ' ' ' ' ' ' ' ' ' ' ' ' ' ' ']\n",
      " [' ' ' ' ' ' ' ' ' ' ' ' ' ' ' ' ' ' ' ']\n",
      " [' ' ' ' ' ' ' ' ' ' 'X' ' ' ' ' ' ' ' ']\n",
      " [' ' ' ' ' ' ' ' ' ' ' ' ' ' ' ' ' ' ' ']\n",
      " [' ' ' ' ' ' ' ' ' ' ' ' ' ' ' ' ' ' ' ']]\n"
     ]
    }
   ],
   "source": [
    "fila = int(input('Seleciona fila'))\n",
    "columna = int(input('Selecciona columna'))\n",
    "\n",
    "\n",
    "\n",
    "radar[fila, columna] = 'X'\n",
    "print(radar)"
   ]
  },
  {
   "cell_type": "code",
   "execution_count": null,
   "metadata": {},
   "outputs": [],
   "source": [
    "\n",
    "\n",
    "imagen = np.array(Image.open(\"./perdon.jpg\"))\n",
    "print(type(imagen))\n",
    "print(imagen.shape)\n",
    "\n",
    "plt.imshow(imagen)"
   ]
  },
  {
   "cell_type": "markdown",
   "metadata": {},
   "source": [
    "IMAGEN DEL RIVAL ENEMIGO, aparecerá en la presentacion de los jugadores y si insertamos comentarios podríamos hacer un print() comenratario junto con su foto."
   ]
  },
  {
   "cell_type": "markdown",
   "metadata": {},
   "source": [
    "POSICIONAMIENTO DE LOS BARCOS"
   ]
  },
  {
   "cell_type": "code",
   "execution_count": null,
   "metadata": {},
   "outputs": [],
   "source": [
    "'''se me habia ocurrido hacer los barcos con bucle while, si cada posicion de barco es \"o\" tendremos 4x1  de una celda, 3*2 de otra, 2*3 de otra\n",
    "y 4*1 del grande. \n",
    "En total debería de haber 20 celdas en el tablero con \"o\", podemos programar la posicion de los barcos ocn un while en el que las posiciones \n",
    "se ejecuten segun el barco que queremos poner '''\n",
    "while barco <=20\n",
    "    random_fila = random.randint(0,9)\n",
    "    random_columna = random.randint(0,9)\n",
    "    if tablero_barcos[random_fila,random_columna] == ' ' and tablero_barcos['o']<4 and random_fila+1 == ' ' and random_fila-1 == ' ' and :\n",
    "        tablero_barcos[random_fila,random_columna] = 'o' #faltaria programar que no se toquen los barcos\n",
    "    elif:\n",
    "        tablero_barcos[random_fila,random_columna] == ' ' and tablero_barcos['o']<10:\n",
    "        tablero_barcos[random_fila,random_columna] = 'o'\n",
    "    \n",
    "    \n",
    "    \n",
    "    print(tablero_barcos)\n",
    "break"
   ]
  },
  {
   "cell_type": "code",
   "execution_count": null,
   "metadata": {},
   "outputs": [],
   "source": [
    "while barco <20:\n",
    "    random_fila = random.randint(0,9)\n",
    "    random_columna = random.randint(0,9)\n",
    "    if tablero_barcos[random_fila,random_columna] == ' ' and barco <4 and random_fila+1 == ' ' and random_fila-1 == ' ' :\n",
    "        tablero_barcos[random_fila,random_columna] = \"o\" #faltaria programar que no se toquen los barcos\n",
    "    break\n",
    "print(tablero_barcos)"
   ]
  },
  {
   "cell_type": "code",
   "execution_count": null,
   "metadata": {},
   "outputs": [],
   "source": []
  }
 ],
 "metadata": {
  "kernelspec": {
   "display_name": "Python 3.9.13 ('core')",
   "language": "python",
   "name": "python3"
  },
  "language_info": {
   "codemirror_mode": {
    "name": "ipython",
    "version": 3
   },
   "file_extension": ".py",
   "mimetype": "text/x-python",
   "name": "python",
   "nbconvert_exporter": "python",
   "pygments_lexer": "ipython3",
   "version": "3.9.13"
  },
  "orig_nbformat": 4,
  "vscode": {
   "interpreter": {
    "hash": "1c911894c9641cbbe3dfaaddd4799b1105735ad8e1396231b725b1d8a6dd4f21"
   }
  }
 },
 "nbformat": 4,
 "nbformat_minor": 2
}
