{
 "cells": [
  {
   "cell_type": "code",
   "execution_count": null,
   "metadata": {},
   "outputs": [],
   "source": [
    "'''Ejercicio hundir la flota, pendiente de adornar'''"
   ]
  },
  {
   "cell_type": "markdown",
   "metadata": {},
   "source": [
    "'''pasos a realizar:\n",
    "-crear presentación con input, donde se pide nommbre del jugador\n",
    "-crear dos tablero 10 x 10 uno de ellos con los barcos \n",
    "-se podría hacer que el jugador posicione los barcos de forma manual con inputs, ya  que el formato aleatorio lo va a hacer igualmente el jugador \"máquina\"\n",
    "-programar que e repita el turno en caso de impacto\n",
    "-si la máquina realiza impacto, debería de probar sus siguientes lancamientos en un rango de n+-1 en altitud y latitud hasta volver a impactar y repetir bucle\n",
    "- en caso de hundimiento, todas las casillas a +-1 del area del barco quedarán anuladas de la IA puesto que no habrá barcos en dicha posicion\n",
    "- *** podriamos programar imputs ingeniosos en algunos casos segun se desarrolle la partida, como que eliminar la mitad de la flota enemiga la máquina nos haga algun tipo de comentario o amenza, y finalizar el juego con un \"has ganado\" o \" la próxima me vengaré\"\n",
    "- puede ser interesar programar la IA con dos dificultades, disparos aleatorios, o disparos precisos, aplicando conocimiento en los lanzamientos con el n+-1\n",
    "- mme gustaría insertar un avatar de imagen del adversario con está foto.'''\n",
    "  "
   ]
  },
  {
   "cell_type": "markdown",
   "metadata": {},
   "source": [
    "- Tablero fijo de prueba.\n",
    "- Probar algo fácil/cutre/corto de prueba, que funcione.\n",
    "- adornar"
   ]
  },
  {
   "cell_type": "code",
   "execution_count": null,
   "metadata": {},
   "outputs": [],
   "source": [
    "import numpy as np\n",
    "import pandas as pd\n",
    "from PIL import Image\n",
    "import matplotlib.pyplot as plt\n",
    "import random"
   ]
  },
  {
   "cell_type": "code",
   "execution_count": null,
   "metadata": {},
   "outputs": [],
   "source": []
  },
  {
   "cell_type": "code",
   "execution_count": null,
   "metadata": {},
   "outputs": [],
   "source": []
  },
  {
   "cell_type": "code",
   "execution_count": null,
   "metadata": {},
   "outputs": [],
   "source": []
  },
  {
   "cell_type": "code",
   "execution_count": null,
   "metadata": {},
   "outputs": [],
   "source": []
  },
  {
   "cell_type": "code",
   "execution_count": null,
   "metadata": {},
   "outputs": [],
   "source": []
  },
  {
   "cell_type": "code",
   "execution_count": null,
   "metadata": {},
   "outputs": [],
   "source": [
    "\n"
   ]
  },
  {
   "cell_type": "code",
   "execution_count": null,
   "metadata": {},
   "outputs": [],
   "source": [
    "\n",
    "    \n",
    "\n"
   ]
  },
  {
   "cell_type": "code",
   "execution_count": null,
   "metadata": {},
   "outputs": [],
   "source": []
  },
  {
   "cell_type": "code",
   "execution_count": 85,
   "metadata": {},
   "outputs": [
    {
     "name": "stdout",
     "output_type": "stream",
     "text": [
      "[[' ' ' ' ' ' ' ' ' ' ' ' ' ' ' ' ' ' ' ']\n",
      " [' ' ' ' ' ' ' ' ' ' ' ' ' ' ' ' ' ' ' ']\n",
      " [' ' ' ' ' ' ' ' ' ' ' ' ' ' ' ' ' ' ' ']\n",
      " [' ' ' ' ' ' ' ' ' ' ' ' ' ' ' ' ' ' ' ']\n",
      " [' ' ' ' ' ' ' ' ' ' ' ' ' ' ' ' ' ' ' ']\n",
      " [' ' ' ' ' ' ' ' ' ' ' ' ' ' ' ' ' ' ' ']\n",
      " [' ' ' ' ' ' ' ' ' ' ' ' ' ' ' ' ' ' ' ']\n",
      " [' ' ' ' ' ' ' ' ' ' ' ' ' ' ' ' ' ' ' ']\n",
      " [' ' ' ' ' ' ' ' ' ' ' ' ' ' ' ' ' ' ' ']\n",
      " [' ' ' ' ' ' ' ' ' ' ' ' ' ' ' ' ' ' ' ']]\n",
      "__________________________________________\n",
      "[[' ' ' ' ' ' ' ' ' ' ' ' ' ' ' ' ' ' ' ']\n",
      " [' ' ' ' ' ' ' ' ' ' ' ' ' ' ' ' ' ' ' ']\n",
      " [' ' ' ' ' ' ' ' ' ' ' ' ' ' ' ' ' ' ' ']\n",
      " [' ' ' ' ' ' ' ' ' ' ' ' ' ' ' ' ' ' ' ']\n",
      " [' ' ' ' ' ' ' ' ' ' ' ' ' ' ' ' ' ' ' ']\n",
      " [' ' ' ' ' ' ' ' ' ' ' ' ' ' ' ' ' ' ' ']\n",
      " [' ' ' ' ' ' ' ' ' ' ' ' ' ' ' ' ' ' ' ']\n",
      " [' ' ' ' ' ' ' ' ' ' ' ' ' ' ' ' ' ' ' ']\n",
      " [' ' ' ' ' ' ' ' ' ' ' ' ' ' ' ' ' ' ' ']\n",
      " [' ' ' ' ' ' ' ' ' ' ' ' ' ' ' ' ' ' ' ']]\n"
     ]
    }
   ],
   "source": [
    "# TABLEROS INICIALES JUGADOR\n",
    "\n",
    "np.random.seed(2022)\n",
    "radar = np.full((10,10), fill_value = ' ')\n",
    "print(radar)\n",
    "tablero_barcos= np.full((10,10), fill_value = ' ')\n",
    "print('__________________________________________')\n",
    "print(tablero_barcos)\n",
    "orient = random.choice(['N', 'S', 'E', 'O'])\n",
    "barco = 0\n",
    "\n",
    "\n"
   ]
  },
  {
   "cell_type": "code",
   "execution_count": 86,
   "metadata": {},
   "outputs": [
    {
     "name": "stdout",
     "output_type": "stream",
     "text": [
      "[['O' 'O' ' ' ' ' ' ' ' ' ' ' 'O' ' ' ' ']\n",
      " [' ' ' ' 'O' 'O' 'O' 'O' ' ' 'O' ' ' 'O']\n",
      " [' ' ' ' ' ' ' ' ' ' ' ' ' ' ' ' ' ' 'O']\n",
      " [' ' ' ' ' ' ' ' 'O' ' ' ' ' ' ' ' ' 'O']\n",
      " ['O' 'O' ' ' ' ' ' ' ' ' 'O' ' ' ' ' ' ']\n",
      " [' ' ' ' ' ' ' ' ' ' 'O' ' ' ' ' ' ' ' ']\n",
      " [' ' 'O' ' ' ' ' ' ' ' ' ' ' ' ' ' ' ' ']\n",
      " [' ' 'O' ' ' ' ' ' ' 'O' 'O' ' ' ' ' ' ']\n",
      " [' ' 'O' ' ' ' ' ' ' ' ' ' ' ' ' ' ' ' ']\n",
      " [' ' ' ' ' ' ' ' ' ' ' ' ' ' ' ' ' ' 'O']]\n",
      "__________________________________________\n",
      "[[' ' ' ' ' ' ' ' ' ' ' ' ' ' ' ' ' ' ' ']\n",
      " [' ' ' ' ' ' ' ' ' ' ' ' ' ' ' ' ' ' ' ']\n",
      " [' ' ' ' ' ' ' ' ' ' ' ' ' ' ' ' ' ' ' ']\n",
      " [' ' ' ' ' ' ' ' ' ' ' ' ' ' ' ' ' ' ' ']\n",
      " [' ' ' ' ' ' ' ' ' ' ' ' ' ' ' ' ' ' ' ']\n",
      " [' ' ' ' ' ' ' ' ' ' ' ' ' ' ' ' ' ' ' ']\n",
      " [' ' ' ' ' ' ' ' ' ' ' ' ' ' ' ' ' ' ' ']\n",
      " [' ' ' ' ' ' ' ' ' ' ' ' ' ' ' ' ' ' ' ']\n",
      " [' ' ' ' ' ' ' ' ' ' ' ' ' ' ' ' ' ' ' ']\n",
      " [' ' ' ' ' ' ' ' ' ' ' ' ' ' ' ' ' ' ' ']]\n"
     ]
    }
   ],
   "source": [
    "# BARCOS JUGADOR\n",
    "\n",
    "tablero_barcos[1, 2:6] = 'O'\n",
    "tablero_barcos[0, 0:2] = 'O'\n",
    "tablero_barcos[7, 5:7] = 'O'\n",
    "tablero_barcos[4, 6:7] = 'O'\n",
    "tablero_barcos[4, 0:2] = 'O'\n",
    "tablero_barcos[0:2, 7] = 'O'\n",
    "tablero_barcos[6:9, 1] = 'O'\n",
    "tablero_barcos[1:4, 9] = 'O'\n",
    "tablero_barcos[5, 5] = 'O'\n",
    "tablero_barcos[9, 9] = 'O'\n",
    "tablero_barcos[3, 4] = 'O'\n",
    "print(tablero_barcos)\n",
    "print('__________________________________________')\n",
    "print(radar)\n"
   ]
  },
  {
   "cell_type": "code",
   "execution_count": 87,
   "metadata": {},
   "outputs": [
    {
     "name": "stdout",
     "output_type": "stream",
     "text": [
      "[['O' 'O' ' ' ' ' ' ' ' ' ' ' 'O' ' ' ' ']\n",
      " [' ' ' ' 'O' 'O' 'O' 'O' ' ' 'O' ' ' 'O']\n",
      " [' ' ' ' ' ' ' ' ' ' ' ' ' ' ' ' ' ' 'O']\n",
      " [' ' ' ' ' ' ' ' 'O' ' ' ' ' ' ' ' ' 'O']\n",
      " ['O' 'O' ' ' ' ' ' ' ' ' 'O' ' ' ' ' ' ']\n",
      " [' ' ' ' ' ' ' ' ' ' 'O' ' ' ' ' ' ' ' ']\n",
      " [' ' 'O' ' ' ' ' ' ' ' ' ' ' ' ' ' ' ' ']\n",
      " [' ' 'O' ' ' ' ' ' ' 'O' 'O' ' ' ' ' ' ']\n",
      " [' ' 'O' ' ' ' ' ' ' ' ' ' ' ' ' ' ' ' ']\n",
      " [' ' ' ' ' ' ' ' ' ' ' ' ' ' ' ' ' ' 'O']]\n"
     ]
    }
   ],
   "source": [
    "# BARCOS RIVAL\n",
    "\n",
    "\n",
    "tablero_rival = np.full((10,10), fill_value = ' ')\n",
    "\n",
    "tablero_rival[1, 2:6] = 'O'\n",
    "tablero_rival[0, 0:2] = 'O'\n",
    "tablero_rival[7, 5:7] = 'O'\n",
    "tablero_rival[4, 6:7] = 'O'\n",
    "tablero_rival[4, 0:2] = 'O'\n",
    "tablero_rival[0:2, 7] = 'O'\n",
    "tablero_rival[6:9, 1] = 'O'\n",
    "tablero_rival[1:4, 9] = 'O'\n",
    "tablero_rival[5, 5] = 'O'\n",
    "tablero_rival[9, 9] = 'O'\n",
    "tablero_rival[3, 4] = 'O'\n",
    "print(tablero_rival)"
   ]
  },
  {
   "cell_type": "code",
   "execution_count": 90,
   "metadata": {},
   "outputs": [
    {
     "name": "stdout",
     "output_type": "stream",
     "text": [
      "has fallado\n",
      "[[' ' ' ' ' ' ' ' ' ' ' ' ' ' ' ' ' ' ' ']\n",
      " [' ' 'X' ' ' ' ' ' ' ' ' ' ' ' ' ' ' ' ']\n",
      " [' ' ' ' ' ' ' ' 'X' ' ' ' ' 'X' ' ' ' ']\n",
      " [' ' ' ' ' ' ' ' ' ' ' ' ' ' ' ' 'X' ' ']\n",
      " [' ' ' ' ' ' ' ' ' ' ' ' ' ' ' ' ' ' ' ']\n",
      " [' ' ' ' ' ' ' ' ' ' 'T' ' ' ' ' ' ' ' ']\n",
      " [' ' ' ' ' ' ' ' ' ' ' ' ' ' ' ' ' ' ' ']\n",
      " [' ' ' ' ' ' ' ' ' ' 'T' ' ' ' ' ' ' ' ']\n",
      " [' ' ' ' ' ' ' ' ' ' ' ' ' ' ' ' ' ' 'X']\n",
      " [' ' ' ' ' ' ' ' ' ' ' ' ' ' ' ' ' ' ' ']]\n",
      "has fallado\n",
      "[[' ' ' ' ' ' ' ' ' ' ' ' ' ' ' ' ' ' ' ']\n",
      " [' ' 'X' ' ' ' ' ' ' ' ' ' ' ' ' ' ' ' ']\n",
      " [' ' ' ' ' ' 'X' 'X' ' ' ' ' 'X' ' ' ' ']\n",
      " [' ' ' ' ' ' ' ' ' ' ' ' ' ' ' ' 'X' ' ']\n",
      " [' ' ' ' ' ' ' ' ' ' ' ' ' ' ' ' ' ' ' ']\n",
      " [' ' ' ' ' ' ' ' ' ' 'T' ' ' ' ' ' ' ' ']\n",
      " [' ' ' ' ' ' ' ' ' ' ' ' ' ' ' ' ' ' ' ']\n",
      " [' ' ' ' ' ' ' ' ' ' 'T' ' ' ' ' ' ' ' ']\n",
      " [' ' ' ' ' ' ' ' ' ' ' ' ' ' ' ' ' ' 'X']\n",
      " [' ' ' ' ' ' ' ' ' ' ' ' ' ' ' ' ' ' ' ']]\n"
     ]
    },
    {
     "ename": "ValueError",
     "evalue": "invalid literal for int() with base 10: ''",
     "output_type": "error",
     "traceback": [
      "\u001b[1;31m---------------------------------------------------------------------------\u001b[0m",
      "\u001b[1;31mValueError\u001b[0m                                Traceback (most recent call last)",
      "\u001b[1;32mc:\\Users\\LENOVO\\Documents\\GitHub\\pereli_repo\\HLF.ipynb Celda 16\u001b[0m in \u001b[0;36m<cell line: 4>\u001b[1;34m()\u001b[0m\n\u001b[0;32m      <a href='vscode-notebook-cell:/c%3A/Users/LENOVO/Documents/GitHub/pereli_repo/HLF.ipynb#X34sZmlsZQ%3D%3D?line=3'>4</a>\u001b[0m \u001b[39mwhile\u001b[39;00m vidas \u001b[39m>\u001b[39m \u001b[39m0\u001b[39m:\n\u001b[0;32m      <a href='vscode-notebook-cell:/c%3A/Users/LENOVO/Documents/GitHub/pereli_repo/HLF.ipynb#X34sZmlsZQ%3D%3D?line=4'>5</a>\u001b[0m     fila \u001b[39m=\u001b[39m \u001b[39mint\u001b[39m(\u001b[39minput\u001b[39m(\u001b[39m'\u001b[39m\u001b[39mSeleciona fila\u001b[39m\u001b[39m'\u001b[39m))\n\u001b[1;32m----> <a href='vscode-notebook-cell:/c%3A/Users/LENOVO/Documents/GitHub/pereli_repo/HLF.ipynb#X34sZmlsZQ%3D%3D?line=5'>6</a>\u001b[0m     columna \u001b[39m=\u001b[39m \u001b[39mint\u001b[39;49m(\u001b[39minput\u001b[39;49m(\u001b[39m'\u001b[39;49m\u001b[39mSelecciona columna\u001b[39;49m\u001b[39m'\u001b[39;49m))\n\u001b[0;32m      <a href='vscode-notebook-cell:/c%3A/Users/LENOVO/Documents/GitHub/pereli_repo/HLF.ipynb#X34sZmlsZQ%3D%3D?line=7'>8</a>\u001b[0m     \u001b[39mif\u001b[39;00m vidas \u001b[39m==\u001b[39m \u001b[39m0\u001b[39m:\n\u001b[0;32m      <a href='vscode-notebook-cell:/c%3A/Users/LENOVO/Documents/GitHub/pereli_repo/HLF.ipynb#X34sZmlsZQ%3D%3D?line=8'>9</a>\u001b[0m         \u001b[39mprint\u001b[39m(\u001b[39m'\u001b[39m\u001b[39mHas perdido, haber estudiao\u001b[39m\u001b[39m'\u001b[39m)\n",
      "\u001b[1;31mValueError\u001b[0m: invalid literal for int() with base 10: ''"
     ]
    }
   ],
   "source": [
    "\n",
    "# JUEGO\n",
    "\n",
    "vidas_rival = 22\n",
    "vidas_jugador = 22\n",
    "while vidas_jugador > 0:\n",
    "    fila = int(input('Seleciona fila'))\n",
    "    columna = int(input('Selecciona columna'))\n",
    "\n",
    "    if vidas_rival == 0:\n",
    "        print('Has ganado, perdón the bridge')\n",
    "        break\n",
    "\n",
    "    elif tablero_barcos[fila, columna] == 'O':\n",
    "        radar[fila,columna] = 'T'\n",
    "        print('Tocado!')\n",
    "        vidas_rival = vidas_rival -1\n",
    "        print(radar)\n",
    "    else:\n",
    "        print('Has fallado!')\n",
    "        radar[fila, columna] = 'X'\n",
    "        print(radar)\n",
    "\n",
    "# \n"
   ]
  },
  {
   "cell_type": "code",
   "execution_count": null,
   "metadata": {},
   "outputs": [],
   "source": [
    "\n",
    "\n",
    "imagen = np.array(Image.open(\"./perdon.jpg\"))\n",
    "print(type(imagen))\n",
    "print(imagen.shape)\n",
    "\n",
    "plt.imshow(imagen)"
   ]
  },
  {
   "cell_type": "markdown",
   "metadata": {},
   "source": [
    "IMAGEN DEL RIVAL ENEMIGO, aparecerá en la presentacion de los jugadores y si insertamos comentarios podríamos hacer un print() comenratario junto con su foto."
   ]
  },
  {
   "cell_type": "markdown",
   "metadata": {},
   "source": [
    "POSICIONAMIENTO DE LOS BARCOS"
   ]
  },
  {
   "cell_type": "code",
   "execution_count": null,
   "metadata": {},
   "outputs": [],
   "source": [
    "'''se me habia ocurrido hacer los barcos con bucle while, si cada posicion de barco es \"o\" tendremos 4x1  de una celda, 3*2 de otra, 2*3 de otra\n",
    "y 4*1 del grande. \n",
    "En total debería de haber 20 celdas en el tablero con \"o\", podemos programar la posicion de los barcos ocn un while en el que las posiciones \n",
    "se ejecuten segun el barco que queremos poner '''\n",
    "while barco <=20\n",
    "    random_fila = random.randint(0,9)\n",
    "    random_columna = random.randint(0,9)\n",
    "    if tablero_barcos[random_fila,random_columna] == ' ' and tablero_barcos['o']<4 and random_fila+1 == ' ' and random_fila-1 == ' ' and :\n",
    "        tablero_barcos[random_fila,random_columna] = 'o' #faltaria programar que no se toquen los barcos\n",
    "    elif:\n",
    "        tablero_barcos[random_fila,random_columna] == ' ' and tablero_barcos['o']<10:\n",
    "        tablero_barcos[random_fila,random_columna] = 'o'\n",
    "    \n",
    "    \n",
    "    \n",
    "    print(tablero_barcos)\n",
    "break"
   ]
  },
  {
   "cell_type": "code",
   "execution_count": null,
   "metadata": {},
   "outputs": [],
   "source": [
    "while barco <20:\n",
    "    random_fila = random.randint(0,9)\n",
    "    random_columna = random.randint(0,9)\n",
    "    if tablero_barcos[random_fila,random_columna] == ' ' and barco <4 and random_fila+1 == ' ' and random_fila-1 == ' ' :\n",
    "        tablero_barcos[random_fila,random_columna] = \"o\" #faltaria programar que no se toquen los barcos\n",
    "    break\n",
    "print(tablero_barcos)"
   ]
  },
  {
   "cell_type": "code",
   "execution_count": null,
   "metadata": {},
   "outputs": [],
   "source": []
  }
 ],
 "metadata": {
  "kernelspec": {
   "display_name": "Python 3.9.13 ('core')",
   "language": "python",
   "name": "python3"
  },
  "language_info": {
   "codemirror_mode": {
    "name": "ipython",
    "version": 3
   },
   "file_extension": ".py",
   "mimetype": "text/x-python",
   "name": "python",
   "nbconvert_exporter": "python",
   "pygments_lexer": "ipython3",
   "version": "3.9.13"
  },
  "orig_nbformat": 4,
  "vscode": {
   "interpreter": {
    "hash": "1c911894c9641cbbe3dfaaddd4799b1105735ad8e1396231b725b1d8a6dd4f21"
   }
  }
 },
 "nbformat": 4,
 "nbformat_minor": 2
}
